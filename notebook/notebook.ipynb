{
 "cells": [
  {
   "cell_type": "markdown",
   "metadata": {},
   "source": [
    "# 1. ETL ➡ Extraer, Transformar y Cargar"
   ]
  },
  {
   "cell_type": "markdown",
   "metadata": {},
   "source": [
    "Obtengo los datos a través del cliente que está interesado en que le analicen los datos de su negocio. En este caso, es una farmacia comunitaria de Canarias, en Tenerife.\n",
    " \n",
    "El cliente ha obtenido los datos a partir del software de su negocio, llamado [Unycop](https://www.unycop.es/). Los datos se encuentran en formato excel."
   ]
  },
  {
   "cell_type": "code",
   "execution_count": 15,
   "metadata": {},
   "outputs": [],
   "source": [
    "#%pip install xlrd>=2.0.1\n",
    "#%pip install sqlalchemy\n",
    "#%pip install xlwt\n",
    "#%pip install mysql-connector-python\n",
    "#%pip install SQLAlchemy==2.0.10\n",
    "#%pip install pymysql\n",
    "#%pip install mysql"
   ]
  },
  {
   "cell_type": "code",
   "execution_count": 1,
   "metadata": {},
   "outputs": [],
   "source": [
    "import pandas as pd\n",
    "pd.set_option('display.max_columns', None)\n",
    "import os\n",
    "import numpy as np \n",
    "import json\n",
    "import warnings\n",
    "warnings.filterwarnings('ignore')\n",
    "import sys\n",
    "sys.path.append('../src')\n",
    "\n",
    "import mysql\n",
    "import configparser\n",
    "import mysql.connector as conn\n",
    "import pymysql\n",
    "from sqlalchemy import create_engine\n",
    "\n",
    "import importlib\n",
    "import funciones\n",
    "importlib.reload(funciones) \n",
    "from funciones import ExcelManager"
   ]
  },
  {
   "cell_type": "markdown",
   "metadata": {},
   "source": [
    "### Limpieza del archivo excel articulos"
   ]
  },
  {
   "cell_type": "code",
   "execution_count": 18,
   "metadata": {},
   "outputs": [],
   "source": [
    "df = pd.read_excel('../data/data_raw/articulos.xlsx')\n",
    "df = df.iloc[:, 1:]\n",
    "df.columns = df.iloc[0]\n",
    "df = df.iloc[1:, :]\n",
    "df = df.reset_index(drop=True)\n"
   ]
  },
  {
   "cell_type": "code",
   "execution_count": 19,
   "metadata": {},
   "outputs": [
    {
     "data": {
      "text/html": [
       "<div>\n",
       "<style scoped>\n",
       "    .dataframe tbody tr th:only-of-type {\n",
       "        vertical-align: middle;\n",
       "    }\n",
       "\n",
       "    .dataframe tbody tr th {\n",
       "        vertical-align: top;\n",
       "    }\n",
       "\n",
       "    .dataframe thead th {\n",
       "        text-align: right;\n",
       "    }\n",
       "</style>\n",
       "<table border=\"1\" class=\"dataframe\">\n",
       "  <thead>\n",
       "    <tr style=\"text-align: right;\">\n",
       "      <th></th>\n",
       "      <th>Código</th>\n",
       "      <th>Nombre</th>\n",
       "      <th>Familia</th>\n",
       "      <th>Mínimo</th>\n",
       "      <th>Existencias</th>\n",
       "      <th>P.V.P.</th>\n",
       "      <th>NaN</th>\n",
       "      <th>Ventas</th>\n",
       "      <th>Porcent.</th>\n",
       "    </tr>\n",
       "  </thead>\n",
       "  <tbody>\n",
       "    <tr>\n",
       "      <th>0</th>\n",
       "      <td>702686</td>\n",
       "      <td>JARDIANCE  10  MG  30  COMP</td>\n",
       "      <td>Financiables</td>\n",
       "      <td>4</td>\n",
       "      <td>5</td>\n",
       "      <td>49,53</td>\n",
       "      <td>NaN</td>\n",
       "      <td>18.188,36</td>\n",
       "      <td>0,80%</td>\n",
       "    </tr>\n",
       "    <tr>\n",
       "      <th>1</th>\n",
       "      <td>706414</td>\n",
       "      <td>TOUJEO  300  UI  SOL  INYECT  3  PLUMAS  1.5  M</td>\n",
       "      <td>Financiables</td>\n",
       "      <td>5</td>\n",
       "      <td>6</td>\n",
       "      <td>48,68</td>\n",
       "      <td>NaN</td>\n",
       "      <td>18.011,60</td>\n",
       "      <td>0,80%</td>\n",
       "    </tr>\n",
       "    <tr>\n",
       "      <th>2</th>\n",
       "      <td>700588</td>\n",
       "      <td>FORXIGA  10  MG  28  COMP</td>\n",
       "      <td>Financiables</td>\n",
       "      <td>3</td>\n",
       "      <td>3</td>\n",
       "      <td>44,25</td>\n",
       "      <td>NaN</td>\n",
       "      <td>16.149,68</td>\n",
       "      <td>0,71%</td>\n",
       "    </tr>\n",
       "    <tr>\n",
       "      <th>3</th>\n",
       "      <td>704632</td>\n",
       "      <td>TRULICITY  1.5  MG  SOL  INY  4  PLUMAS  PREC</td>\n",
       "      <td>Financiables</td>\n",
       "      <td>2</td>\n",
       "      <td>2</td>\n",
       "      <td>123,22</td>\n",
       "      <td>NaN</td>\n",
       "      <td>15.895,38</td>\n",
       "      <td>0,70%</td>\n",
       "    </tr>\n",
       "    <tr>\n",
       "      <th>4</th>\n",
       "      <td>935353</td>\n",
       "      <td>NEXIUM  MUPS  40  MG  28  COMP</td>\n",
       "      <td>Financiables</td>\n",
       "      <td>5</td>\n",
       "      <td>4</td>\n",
       "      <td>24,14</td>\n",
       "      <td>NaN</td>\n",
       "      <td>14.966,80</td>\n",
       "      <td>0,66%</td>\n",
       "    </tr>\n",
       "  </tbody>\n",
       "</table>\n",
       "</div>"
      ],
      "text/plain": [
       "0  Código                                           Nombre       Familia  \\\n",
       "0  702686                      JARDIANCE  10  MG  30  COMP  Financiables   \n",
       "1  706414  TOUJEO  300  UI  SOL  INYECT  3  PLUMAS  1.5  M  Financiables   \n",
       "2  700588                        FORXIGA  10  MG  28  COMP  Financiables   \n",
       "3  704632    TRULICITY  1.5  MG  SOL  INY  4  PLUMAS  PREC  Financiables   \n",
       "4  935353                   NEXIUM  MUPS  40  MG  28  COMP  Financiables   \n",
       "\n",
       "0 Mínimo Existencias  P.V.P.  NaN     Ventas Porcent.  \n",
       "0      4           5   49,53  NaN  18.188,36    0,80%  \n",
       "1      5           6   48,68  NaN  18.011,60    0,80%  \n",
       "2      3           3   44,25  NaN  16.149,68    0,71%  \n",
       "3      2           2  123,22  NaN  15.895,38    0,70%  \n",
       "4      5           4   24,14  NaN  14.966,80    0,66%  "
      ]
     },
     "execution_count": 19,
     "metadata": {},
     "output_type": "execute_result"
    }
   ],
   "source": [
    "df.head()"
   ]
  },
  {
   "cell_type": "markdown",
   "metadata": {},
   "source": [
    "Borro la columna vacía."
   ]
  },
  {
   "cell_type": "code",
   "execution_count": 21,
   "metadata": {},
   "outputs": [],
   "source": [
    "df = df.drop_duplicates()\n",
    "df = df.rename(columns={df.columns[6]: 'columna_vacia'})\n",
    "columna_vacia = 'columna_vacia'\n",
    "df = df.drop(columns=[columna_vacia], errors='ignore')\n",
    "df = df.dropna()"
   ]
  },
  {
   "cell_type": "code",
   "execution_count": 24,
   "metadata": {},
   "outputs": [
    {
     "data": {
      "text/html": [
       "<div>\n",
       "<style scoped>\n",
       "    .dataframe tbody tr th:only-of-type {\n",
       "        vertical-align: middle;\n",
       "    }\n",
       "\n",
       "    .dataframe tbody tr th {\n",
       "        vertical-align: top;\n",
       "    }\n",
       "\n",
       "    .dataframe thead th {\n",
       "        text-align: right;\n",
       "    }\n",
       "</style>\n",
       "<table border=\"1\" class=\"dataframe\">\n",
       "  <thead>\n",
       "    <tr style=\"text-align: right;\">\n",
       "      <th></th>\n",
       "      <th>Código</th>\n",
       "      <th>Nombre</th>\n",
       "      <th>Familia</th>\n",
       "      <th>Mínimo</th>\n",
       "      <th>Existencias</th>\n",
       "      <th>P.V.P.</th>\n",
       "      <th>Ventas</th>\n",
       "      <th>Porcent.</th>\n",
       "    </tr>\n",
       "  </thead>\n",
       "  <tbody>\n",
       "    <tr>\n",
       "      <th>0</th>\n",
       "      <td>702686</td>\n",
       "      <td>JARDIANCE  10  MG  30  COMP</td>\n",
       "      <td>Financiables</td>\n",
       "      <td>4</td>\n",
       "      <td>5</td>\n",
       "      <td>49,53</td>\n",
       "      <td>18.188,36</td>\n",
       "      <td>0,80%</td>\n",
       "    </tr>\n",
       "    <tr>\n",
       "      <th>1</th>\n",
       "      <td>706414</td>\n",
       "      <td>TOUJEO  300  UI  SOL  INYECT  3  PLUMAS  1.5  M</td>\n",
       "      <td>Financiables</td>\n",
       "      <td>5</td>\n",
       "      <td>6</td>\n",
       "      <td>48,68</td>\n",
       "      <td>18.011,60</td>\n",
       "      <td>0,80%</td>\n",
       "    </tr>\n",
       "    <tr>\n",
       "      <th>2</th>\n",
       "      <td>700588</td>\n",
       "      <td>FORXIGA  10  MG  28  COMP</td>\n",
       "      <td>Financiables</td>\n",
       "      <td>3</td>\n",
       "      <td>3</td>\n",
       "      <td>44,25</td>\n",
       "      <td>16.149,68</td>\n",
       "      <td>0,71%</td>\n",
       "    </tr>\n",
       "    <tr>\n",
       "      <th>3</th>\n",
       "      <td>704632</td>\n",
       "      <td>TRULICITY  1.5  MG  SOL  INY  4  PLUMAS  PREC</td>\n",
       "      <td>Financiables</td>\n",
       "      <td>2</td>\n",
       "      <td>2</td>\n",
       "      <td>123,22</td>\n",
       "      <td>15.895,38</td>\n",
       "      <td>0,70%</td>\n",
       "    </tr>\n",
       "    <tr>\n",
       "      <th>4</th>\n",
       "      <td>935353</td>\n",
       "      <td>NEXIUM  MUPS  40  MG  28  COMP</td>\n",
       "      <td>Financiables</td>\n",
       "      <td>5</td>\n",
       "      <td>4</td>\n",
       "      <td>24,14</td>\n",
       "      <td>14.966,80</td>\n",
       "      <td>0,66%</td>\n",
       "    </tr>\n",
       "  </tbody>\n",
       "</table>\n",
       "</div>"
      ],
      "text/plain": [
       "0  Código                                           Nombre       Familia  \\\n",
       "0  702686                      JARDIANCE  10  MG  30  COMP  Financiables   \n",
       "1  706414  TOUJEO  300  UI  SOL  INYECT  3  PLUMAS  1.5  M  Financiables   \n",
       "2  700588                        FORXIGA  10  MG  28  COMP  Financiables   \n",
       "3  704632    TRULICITY  1.5  MG  SOL  INY  4  PLUMAS  PREC  Financiables   \n",
       "4  935353                   NEXIUM  MUPS  40  MG  28  COMP  Financiables   \n",
       "\n",
       "0 Mínimo Existencias  P.V.P.     Ventas Porcent.  \n",
       "0      4           5   49,53  18.188,36    0,80%  \n",
       "1      5           6   48,68  18.011,60    0,80%  \n",
       "2      3           3   44,25  16.149,68    0,71%  \n",
       "3      2           2  123,22  15.895,38    0,70%  \n",
       "4      5           4   24,14  14.966,80    0,66%  "
      ]
     },
     "execution_count": 24,
     "metadata": {},
     "output_type": "execute_result"
    }
   ],
   "source": [
    "df.head()"
   ]
  },
  {
   "cell_type": "markdown",
   "metadata": {},
   "source": [
    "Limpieza de espacios en blanco al pasar el archivo pdf a excel. Algunas filas se quedaban nulas. "
   ]
  },
  {
   "cell_type": "code",
   "execution_count": 25,
   "metadata": {},
   "outputs": [],
   "source": [
    "columnas_a = ['Código', 'Nombre', 'Familia', 'Mínimo', 'Existencias', 'P.V.P.', 'Ventas', 'Porcent.']\n",
    "eliminar = ['Código', 'Nombre', 'Familia', 'Mínimo', 'Existencias', 'P.V.P.', 'Ventas', 'Porcent.']\n",
    "\n",
    "for columna, valor in zip(columnas_a, eliminar):\n",
    "    df = df[~(df[columna] == valor)]"
   ]
  },
  {
   "cell_type": "code",
   "execution_count": 26,
   "metadata": {},
   "outputs": [],
   "source": [
    "df.to_excel('../data/data_clean/archivos.xlsx', index=False)"
   ]
  },
  {
   "cell_type": "markdown",
   "metadata": {},
   "source": [
    "### Limpieza de los 72 archivos excel lineas_ventas "
   ]
  },
  {
   "cell_type": "markdown",
   "metadata": {},
   "source": [
    "Primero muestro un ejemplo de cómo se encontraba inicialmente el archivo excel: lineas_ventas_diciembre_17."
   ]
  },
  {
   "cell_type": "code",
   "execution_count": 30,
   "metadata": {},
   "outputs": [],
   "source": [
    "dic_17 = pd.read_excel('../data/data_raw/2017/lineas_ventas_diciembre_17.xls')"
   ]
  },
  {
   "cell_type": "code",
   "execution_count": 31,
   "metadata": {},
   "outputs": [
    {
     "data": {
      "text/html": [
       "<div>\n",
       "<style scoped>\n",
       "    .dataframe tbody tr th:only-of-type {\n",
       "        vertical-align: middle;\n",
       "    }\n",
       "\n",
       "    .dataframe tbody tr th {\n",
       "        vertical-align: top;\n",
       "    }\n",
       "\n",
       "    .dataframe thead th {\n",
       "        text-align: right;\n",
       "    }\n",
       "</style>\n",
       "<table border=\"1\" class=\"dataframe\">\n",
       "  <thead>\n",
       "    <tr style=\"text-align: right;\">\n",
       "      <th></th>\n",
       "      <th>Unnamed: 0</th>\n",
       "      <th>Fecha</th>\n",
       "      <th>Hora</th>\n",
       "      <th>Tipo de Operación</th>\n",
       "      <th>Empresa</th>\n",
       "      <th>Código</th>\n",
       "      <th>Denominación</th>\n",
       "      <th>Organismo</th>\n",
       "      <th>Cantidad (Unidades)</th>\n",
       "      <th>Pvp</th>\n",
       "      <th>PVP Facturado</th>\n",
       "      <th>Importe Bruto</th>\n",
       "      <th>Descuento</th>\n",
       "      <th>Importe Neto</th>\n",
       "      <th>Cliente</th>\n",
       "      <th>Perfil de Cliente</th>\n",
       "      <th>Vendedor</th>\n",
       "      <th>Aporta.Subv.</th>\n",
       "      <th>Número de Puesto</th>\n",
       "      <th>Existencias Anteriores</th>\n",
       "      <th>Existencias Posteriores</th>\n",
       "    </tr>\n",
       "  </thead>\n",
       "  <tbody>\n",
       "    <tr>\n",
       "      <th>0</th>\n",
       "      <td>NaN</td>\n",
       "      <td>01/12/17</td>\n",
       "      <td>08:10</td>\n",
       "      <td>Contado</td>\n",
       "      <td>1</td>\n",
       "      <td>770065</td>\n",
       "      <td>ORFIDAL 1 MG 50 COMPRIMIDOS</td>\n",
       "      <td>091 - TSI 002</td>\n",
       "      <td>1</td>\n",
       "      <td>1.65</td>\n",
       "      <td>1.65</td>\n",
       "      <td>0.17</td>\n",
       "      <td>0.0</td>\n",
       "      <td>0.17</td>\n",
       "      <td>NaN</td>\n",
       "      <td>NaN</td>\n",
       "      <td>ADA</td>\n",
       "      <td>0</td>\n",
       "      <td>1</td>\n",
       "      <td>36</td>\n",
       "      <td>35</td>\n",
       "    </tr>\n",
       "    <tr>\n",
       "      <th>1</th>\n",
       "      <td>NaN</td>\n",
       "      <td>01/12/17</td>\n",
       "      <td>08:10</td>\n",
       "      <td>Contado</td>\n",
       "      <td>1</td>\n",
       "      <td>770065</td>\n",
       "      <td>ORFIDAL 1 MG 50 COMPRIMIDOS</td>\n",
       "      <td>095 - RP RE DOE</td>\n",
       "      <td>1</td>\n",
       "      <td>1.65</td>\n",
       "      <td>1.65</td>\n",
       "      <td>0.00</td>\n",
       "      <td>0.0</td>\n",
       "      <td>0.00</td>\n",
       "      <td>NaN</td>\n",
       "      <td>NaN</td>\n",
       "      <td>ADA</td>\n",
       "      <td>0</td>\n",
       "      <td>1</td>\n",
       "      <td>37</td>\n",
       "      <td>36</td>\n",
       "    </tr>\n",
       "    <tr>\n",
       "      <th>2</th>\n",
       "      <td>NaN</td>\n",
       "      <td>01/12/17</td>\n",
       "      <td>08:10</td>\n",
       "      <td>Contado</td>\n",
       "      <td>1</td>\n",
       "      <td>695435</td>\n",
       "      <td>VIBRACINA 100 MG 14 CAPSULAS</td>\n",
       "      <td>123 - TSI 001  *</td>\n",
       "      <td>1</td>\n",
       "      <td>2.40</td>\n",
       "      <td>2.40</td>\n",
       "      <td>0.00</td>\n",
       "      <td>0.0</td>\n",
       "      <td>0.00</td>\n",
       "      <td>NaN</td>\n",
       "      <td>NaN</td>\n",
       "      <td>ADA</td>\n",
       "      <td>0</td>\n",
       "      <td>1</td>\n",
       "      <td>2</td>\n",
       "      <td>1</td>\n",
       "    </tr>\n",
       "    <tr>\n",
       "      <th>3</th>\n",
       "      <td>NaN</td>\n",
       "      <td>01/12/17</td>\n",
       "      <td>08:17</td>\n",
       "      <td>Contado</td>\n",
       "      <td>1</td>\n",
       "      <td>656578</td>\n",
       "      <td>MICARDIS 80 MG 28 COMP</td>\n",
       "      <td>002 - R.G. S.S.</td>\n",
       "      <td>-1</td>\n",
       "      <td>19.20</td>\n",
       "      <td>19.20</td>\n",
       "      <td>-1.92</td>\n",
       "      <td>0.0</td>\n",
       "      <td>-1.92</td>\n",
       "      <td>NaN</td>\n",
       "      <td>NaN</td>\n",
       "      <td>ADA</td>\n",
       "      <td>0</td>\n",
       "      <td>3</td>\n",
       "      <td>21</td>\n",
       "      <td>22</td>\n",
       "    </tr>\n",
       "    <tr>\n",
       "      <th>4</th>\n",
       "      <td>NaN</td>\n",
       "      <td>01/12/17</td>\n",
       "      <td>08:17</td>\n",
       "      <td>Contado</td>\n",
       "      <td>1</td>\n",
       "      <td>656578</td>\n",
       "      <td>MICARDIS 80 MG 28 COMP</td>\n",
       "      <td>094 - RG RE DOE</td>\n",
       "      <td>1</td>\n",
       "      <td>19.20</td>\n",
       "      <td>19.20</td>\n",
       "      <td>1.92</td>\n",
       "      <td>0.0</td>\n",
       "      <td>1.92</td>\n",
       "      <td>NaN</td>\n",
       "      <td>NaN</td>\n",
       "      <td>ADA</td>\n",
       "      <td>0</td>\n",
       "      <td>3</td>\n",
       "      <td>22</td>\n",
       "      <td>21</td>\n",
       "    </tr>\n",
       "  </tbody>\n",
       "</table>\n",
       "</div>"
      ],
      "text/plain": [
       "   Unnamed: 0     Fecha   Hora Tipo de Operación  Empresa  Código  \\\n",
       "0         NaN  01/12/17  08:10           Contado        1  770065   \n",
       "1         NaN  01/12/17  08:10           Contado        1  770065   \n",
       "2         NaN  01/12/17  08:10           Contado        1  695435   \n",
       "3         NaN  01/12/17  08:17           Contado        1  656578   \n",
       "4         NaN  01/12/17  08:17           Contado        1  656578   \n",
       "\n",
       "                   Denominación         Organismo  Cantidad (Unidades)    Pvp  \\\n",
       "0   ORFIDAL 1 MG 50 COMPRIMIDOS     091 - TSI 002                    1   1.65   \n",
       "1   ORFIDAL 1 MG 50 COMPRIMIDOS   095 - RP RE DOE                    1   1.65   \n",
       "2  VIBRACINA 100 MG 14 CAPSULAS  123 - TSI 001  *                    1   2.40   \n",
       "3        MICARDIS 80 MG 28 COMP   002 - R.G. S.S.                   -1  19.20   \n",
       "4        MICARDIS 80 MG 28 COMP   094 - RG RE DOE                    1  19.20   \n",
       "\n",
       "   PVP Facturado  Importe Bruto  Descuento  Importe Neto  Cliente  \\\n",
       "0           1.65           0.17        0.0          0.17      NaN   \n",
       "1           1.65           0.00        0.0          0.00      NaN   \n",
       "2           2.40           0.00        0.0          0.00      NaN   \n",
       "3          19.20          -1.92        0.0         -1.92      NaN   \n",
       "4          19.20           1.92        0.0          1.92      NaN   \n",
       "\n",
       "   Perfil de Cliente Vendedor  Aporta.Subv.  Número de Puesto  \\\n",
       "0                NaN      ADA             0                 1   \n",
       "1                NaN      ADA             0                 1   \n",
       "2                NaN      ADA             0                 1   \n",
       "3                NaN      ADA             0                 3   \n",
       "4                NaN      ADA             0                 3   \n",
       "\n",
       "   Existencias Anteriores  Existencias Posteriores  \n",
       "0                      36                       35  \n",
       "1                      37                       36  \n",
       "2                       2                        1  \n",
       "3                      21                       22  \n",
       "4                      22                       21  "
      ]
     },
     "execution_count": 31,
     "metadata": {},
     "output_type": "execute_result"
    }
   ],
   "source": [
    "dic_17.head(5)"
   ]
  },
  {
   "cell_type": "markdown",
   "metadata": {},
   "source": [
    "Ahora se extraen y se filtran los excels según el tipo de archivo. En este caso solo se acaban filtrando los archivos lineas_ventas."
   ]
  },
  {
   "cell_type": "code",
   "execution_count": null,
   "metadata": {},
   "outputs": [],
   "source": [
    "excelManager = ExcelManager()\n",
    "carpeta_origen = r\"C:\\Users\\blanx\\ironhack\\Final_proyect_SME_real_case\\Final_proyect_SME_real_case\\data\\data_raw\"\n",
    "excels  = excelManager.extraerExcels(carpeta_origen)\n",
    "excelManager.filtrarExcels(excels)"
   ]
  },
  {
   "cell_type": "markdown",
   "metadata": {},
   "source": [
    "Dentro de la función de clase .filtrarExcels(), la función .lineasVentasToDataFrame() limpia el archivo excel lineas_ventas según las necesidades especificas de la tabla.  "
   ]
  },
  {
   "cell_type": "markdown",
   "metadata": {},
   "source": [
    "Luego para mi conocimiento acabo guardando los excels limpios en la carpeta data_clean. Aunque estos archivos no los acabo utilizando. "
   ]
  },
  {
   "cell_type": "code",
   "execution_count": null,
   "metadata": {},
   "outputs": [],
   "source": [
    "carpeta_destino = r\"C:\\Users\\blanx\\ironhack\\Final_proyect_SME_real_case\\Final_proyect_SME_real_case\\data\\data_clean\"\n",
    "excelManager.exportarDfsToExcels(carpeta_destino)"
   ]
  },
  {
   "cell_type": "markdown",
   "metadata": {},
   "source": [
    "## Resumen"
   ]
  },
  {
   "cell_type": "markdown",
   "metadata": {},
   "source": [
    "Primero limpio el archivo pdf articulos para volverlo un excel y poder obtener las columnas Familia y Mínimo. Luego creo una clase llamada ExcelManager para limpiar los excels, según el nombre del archivo y el tipo de datos que contiene internamente (en concreto lineas_ventas). También guarda los excels limpios y contiene otras funciones que aplico en el siguiente apartado.\n"
   ]
  },
  {
   "cell_type": "markdown",
   "metadata": {},
   "source": [
    "# 2. Base de datos en MySQL"
   ]
  },
  {
   "cell_type": "markdown",
   "metadata": {},
   "source": [
    "### Conexión a MySQL\n",
    "Función para crear el engine de conexión de la base de datos.\n"
   ]
  },
  {
   "cell_type": "code",
   "execution_count": null,
   "metadata": {},
   "outputs": [],
   "source": [
    "excelManager.conectarMySQL()"
   ]
  },
  {
   "cell_type": "markdown",
   "metadata": {},
   "source": [
    "### Creación de la base de datos ➡ Formación de dataframes y cada columna de valores\n",
    "Función para crear la base de datos.\n"
   ]
  },
  {
   "cell_type": "code",
   "execution_count": null,
   "metadata": {},
   "outputs": [],
   "source": [
    "excelManager.crearBDMySQL()"
   ]
  },
  {
   "cell_type": "markdown",
   "metadata": {},
   "source": [
    "### Calcular las tablas en base a los Data Frames extraídos \n",
    "\n",
    "Función para filtrar y guardar los dataframes en un diccionario, según el tipo de data_frames: \"lineas_ventas\", \"facturacion_familia\" o \"facturacion\".\n"
   ]
  },
  {
   "cell_type": "code",
   "execution_count": null,
   "metadata": {},
   "outputs": [],
   "source": [
    "data_frames_sql = excelManager.obtenerDFstoMySQL()\n"
   ]
  },
  {
   "cell_type": "markdown",
   "metadata": {},
   "source": [
    "### Carga de base de datos\n",
    "Función para subir los dataframes con toda la información de la base de datos.\n"
   ]
  },
  {
   "cell_type": "code",
   "execution_count": null,
   "metadata": {},
   "outputs": [],
   "source": [
    "excelManager.volcarDatosMySQL(data_frames_sql) \n"
   ]
  },
  {
   "cell_type": "markdown",
   "metadata": {},
   "source": [
    "### Entity Relationship Diagram - ERD"
   ]
  },
  {
   "cell_type": "markdown",
   "metadata": {},
   "source": [
    "ERD creado en MySQL"
   ]
  },
  {
   "cell_type": "markdown",
   "metadata": {},
   "source": [
    "![bd](../images/ERD.jpg)"
   ]
  },
  {
   "cell_type": "markdown",
   "metadata": {},
   "source": [
    "### Creación de uniones de los diagramas"
   ]
  },
  {
   "cell_type": "markdown",
   "metadata": {},
   "source": [
    "```SQL\n",
    "-- MySQL Workbench Forward Engineering\n",
    "\n",
    "SET @OLD_UNIQUE_CHECKS=@@UNIQUE_CHECKS, UNIQUE_CHECKS=0;\n",
    "SET @OLD_FOREIGN_KEY_CHECKS=@@FOREIGN_KEY_CHECKS, FOREIGN_KEY_CHECKS=0;\n",
    "SET @OLD_SQL_MODE=@@SQL_MODE, SQL_MODE='ONLY_FULL_GROUP_BY,STRICT_TRANS_TABLES,NO_ZERO_IN_DATE,NO_ZERO_DATE,ERROR_FOR_DIVISION_BY_ZERO,NO_ENGINE_SUBSTITUTION';\n",
    "\n",
    "-- -----------------------------------------------------\n",
    "-- Schema mydb\n",
    "-- -----------------------------------------------------\n",
    "-- -----------------------------------------------------\n",
    "-- Schema farmacia\n",
    "-- -----------------------------------------------------\n",
    "-- -----------------------------------------------------\n",
    "-- Schema farmacia\n",
    "-- -----------------------------------------------------\n",
    "CREATE SCHEMA IF NOT EXISTS `farmacia` DEFAULT CHARACTER SET utf8mb4 COLLATE utf8mb4_0900_ai_ci ;\n",
    "USE `farmacia` ;\n",
    "\n",
    "-- -----------------------------------------------------\n",
    "-- Table `farmacia`.`empleados`\n",
    "-- -----------------------------------------------------\n",
    "CREATE TABLE IF NOT EXISTS `farmacia`.`empleados` (\n",
    "  `index` BIGINT NOT NULL,\n",
    "  `Vendedor` TEXT NULL DEFAULT NULL,\n",
    "  INDEX `ix_Empleados_index` (`index` ASC) VISIBLE,\n",
    "  PRIMARY KEY (`index`))\n",
    "ENGINE = InnoDB\n",
    "DEFAULT CHARACTER SET = utf8mb4\n",
    "COLLATE = utf8mb4_0900_ai_ci;\n",
    "\n",
    "\n",
    "-- -----------------------------------------------------\n",
    "-- Table `farmacia`.`medicamentos`\n",
    "-- -----------------------------------------------------\n",
    "CREATE TABLE IF NOT EXISTS `farmacia`.`medicamentos` (\n",
    "  `index` BIGINT NOT NULL,\n",
    "  `Codigo` BIGINT NULL DEFAULT NULL,\n",
    "  `Denominacion` TEXT NULL DEFAULT NULL,\n",
    "  `Pvp` DOUBLE NULL DEFAULT NULL,\n",
    "  INDEX `ix_Medicamentos_index` (`index` ASC) VISIBLE,\n",
    "  PRIMARY KEY (`index`))\n",
    "ENGINE = InnoDB\n",
    "DEFAULT CHARACTER SET = utf8mb4\n",
    "COLLATE = utf8mb4_0900_ai_ci;\n",
    "\n",
    "\n",
    "-- -----------------------------------------------------\n",
    "-- Table `farmacia`.`ventas`\n",
    "-- -----------------------------------------------------\n",
    "CREATE TABLE IF NOT EXISTS `farmacia`.`ventas` (\n",
    "  `index` BIGINT NOT NULL,\n",
    "  `Fecha` TEXT NULL DEFAULT NULL,\n",
    "  `Hora` TEXT NULL DEFAULT NULL,\n",
    "  `Organismo` TEXT NULL DEFAULT NULL,\n",
    "  `Cantidad` BIGINT NULL DEFAULT NULL,\n",
    "  `Pvp_facturado` DOUBLE NULL DEFAULT NULL,\n",
    "  `Importe_bruto` DOUBLE NULL DEFAULT NULL,\n",
    "  `Descuento` DOUBLE NULL DEFAULT NULL,\n",
    "  `Importe_neto` DOUBLE NULL DEFAULT NULL,\n",
    "  `Puesto` BIGINT NULL DEFAULT NULL,\n",
    "  `Existencias` BIGINT NULL DEFAULT NULL,\n",
    "  `Ticket` DOUBLE NULL DEFAULT NULL,\n",
    "  `Familia` TEXT NULL DEFAULT NULL,\n",
    "  `Mínimo` DOUBLE NULL,\n",
    "  `medicamentos_index` BIGINT NOT NULL,\n",
    "  `empleados_index` BIGINT NOT NULL,\n",
    "  INDEX `ix_Ventas_index` (`index` ASC) VISIBLE,\n",
    "  PRIMARY KEY (`index`),\n",
    "  INDEX `fk_ventas_medicamentos_idx` (`medicamentos_index` ASC) VISIBLE,\n",
    "  INDEX `fk_ventas_empleados1_idx` (`empleados_index` ASC) VISIBLE,\n",
    "  CONSTRAINT `fk_ventas_medicamentos`\n",
    "    FOREIGN KEY (`medicamentos_index`)\n",
    "    REFERENCES `farmacia`.`medicamentos` (`index`)\n",
    "    ON DELETE NO ACTION\n",
    "    ON UPDATE NO ACTION,\n",
    "  CONSTRAINT `fk_ventas_empleados1`\n",
    "    FOREIGN KEY (`empleados_index`)\n",
    "    REFERENCES `farmacia`.`empleados` (`index`)\n",
    "    ON DELETE NO ACTION\n",
    "    ON UPDATE NO ACTION)\n",
    "ENGINE = InnoDB\n",
    "DEFAULT CHARACTER SET = utf8mb4\n",
    "COLLATE = utf8mb4_0900_ai_ci;\n",
    "\n",
    "\n",
    "SET SQL_MODE=@OLD_SQL_MODE;\n",
    "SET FOREIGN_KEY_CHECKS=@OLD_FOREIGN_KEY_CHECKS;\n",
    "SET UNIQUE_CHECKS=@OLD_UNIQUE_CHECKS;\n",
    "```"
   ]
  },
  {
   "cell_type": "markdown",
   "metadata": {},
   "source": [
    "### Queries\n",
    "Compruebo que la tabla se ha subido adecuadamente y que el número de filas coincide con el original y que la base de datos no está rota."
   ]
  },
  {
   "cell_type": "markdown",
   "metadata": {},
   "source": [
    "```SQL\n",
    "SELECT * FROM ventas;\n",
    "```\n",
    "![bd](../images/MySQL1.jpg)\n"
   ]
  },
  {
   "cell_type": "markdown",
   "metadata": {},
   "source": [
    "```SQL\n",
    "SELECT COUNT(*) AS total_filas\n",
    "FROM ventas;\n",
    "```\n",
    "![bd](../images/MySQL2.jpg)"
   ]
  },
  {
   "cell_type": "markdown",
   "metadata": {},
   "source": [
    "```SQL\n",
    "SELECT COUNT(DISTINCT `index`) AS total_filas_distinct\n",
    "FROM ventas;\n",
    "```\n",
    "![bd](../images/MySQL3.jpg)"
   ]
  },
  {
   "cell_type": "markdown",
   "metadata": {},
   "source": [
    "## Resumen"
   ]
  },
  {
   "cell_type": "markdown",
   "metadata": {},
   "source": [
    "Vuelvo a utilizar mi querida clase ExcelManager para formar los dataframes según mis necesidades, conectarme automaticamente a MySQL, crear la base de datos denominada farmacia, calcular las tablas a partir de los Data Frames extraídos (medicamentos, empleados y ventas) y volcar los datos a MySQl.\n",
    "\n",
    "Compruebo las relaciones entre las tablas ➡ Entity Relationship Diagram - ERD y finalmente me aseguro de que la tabla se ha subido adecuadamente. Si nos fijamos bien tenemos 1.214.357 filas!!!"
   ]
  },
  {
   "cell_type": "markdown",
   "metadata": {},
   "source": [
    "# 3. DashBoards en Power BI"
   ]
  },
  {
   "cell_type": "markdown",
   "metadata": {},
   "source": [
    "![pwbi](../images/powerbi1.jpg)\n"
   ]
  },
  {
   "cell_type": "markdown",
   "metadata": {},
   "source": [
    "![pwbi](../images/powerbi2.jpg)\n"
   ]
  },
  {
   "cell_type": "markdown",
   "metadata": {},
   "source": [
    "![pwbi](../images/powerbi3.jpg)\n"
   ]
  },
  {
   "cell_type": "markdown",
   "metadata": {},
   "source": [
    "## Resumen"
   ]
  },
  {
   "cell_type": "markdown",
   "metadata": {},
   "source": [
    "A continuación indicaré cada gráfica por orden de visualización, es decir, de izquierda a derecha y de arriba hacia abajo. \n",
    "\n",
    "- DashBoard 1: Intro\n",
    "\n",
    "Foto bonita de la farmacia. MIRA QUE CUQUI!!\n",
    "\n",
    "- DashBoard 2: Análisis de ventas\n",
    "\n",
    "1º Facturación Total. 2º Filtro por año, mes y día de los últimos 6 años, desde el 1/12/2017 hasta el 30/11/2023. 3º Facturación en porcentaje por organismo. 4º Facturación por años y meses. 5º Ventas por familia de productos y 6º Matriz que indica los nombres de los medicamentos, las cantidades compradas por clientes y la cantidad cobrada por la farmacia. \n",
    "\n",
    "- DashBoard 3: Análisis de tendencias y empleados\n",
    "\n",
    "1º Descuentos por meses.  2º Filtro por año, mes y día. 3º Filtro por Empleado. 4º Ventas por empleados y años y 5º Ventas por horas.\n"
   ]
  }
 ],
 "metadata": {
  "kernelspec": {
   "display_name": "Python 3",
   "language": "python",
   "name": "python3"
  },
  "language_info": {
   "codemirror_mode": {
    "name": "ipython",
    "version": 3
   },
   "file_extension": ".py",
   "mimetype": "text/x-python",
   "name": "python",
   "nbconvert_exporter": "python",
   "pygments_lexer": "ipython3",
   "version": "3.11.6"
  }
 },
 "nbformat": 4,
 "nbformat_minor": 2
}
