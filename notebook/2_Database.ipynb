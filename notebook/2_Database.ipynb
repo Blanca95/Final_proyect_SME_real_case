{
 "cells": [
  {
   "cell_type": "markdown",
   "metadata": {},
   "source": [
    "# 2. Base de datos en MySQL"
   ]
  },
  {
   "cell_type": "code",
   "execution_count": 10,
   "metadata": {},
   "outputs": [
    {
     "name": "stdout",
     "output_type": "stream",
     "text": [
      "Collecting pymysql\n",
      "  Obtaining dependency information for pymysql from https://files.pythonhosted.org/packages/e5/30/20467e39523d0cfc2b6227902d3687a16364307260c75e6a1cb4422b0c62/PyMySQL-1.1.0-py3-none-any.whl.metadata\n",
      "  Downloading PyMySQL-1.1.0-py3-none-any.whl.metadata (4.4 kB)\n",
      "Using cached PyMySQL-1.1.0-py3-none-any.whl (44 kB)\n",
      "Installing collected packages: pymysql\n",
      "Successfully installed pymysql-1.1.0\n",
      "Note: you may need to restart the kernel to use updated packages.\n"
     ]
    },
    {
     "name": "stderr",
     "output_type": "stream",
     "text": [
      "\n",
      "[notice] A new release of pip is available: 23.2.1 -> 23.3.1\n",
      "[notice] To update, run: C:\\Users\\blanx\\AppData\\Local\\Microsoft\\WindowsApps\\PythonSoftwareFoundation.Python.3.11_qbz5n2kfra8p0\\python.exe -m pip install --upgrade pip\n"
     ]
    }
   ],
   "source": [
    "#%pip install mysql-connector-python\n",
    "#%pip install SQLAlchemy==2.0.10\n",
    "#%pip install pymysql\n",
    "#%pip install mysql"
   ]
  },
  {
   "cell_type": "code",
   "execution_count": 11,
   "metadata": {},
   "outputs": [],
   "source": [
    "import configparser\n",
    "import mysql.connector as conn\n",
    "import pandas as pd\n",
    "import pymysql\n",
    "from sqlalchemy import create_engine"
   ]
  },
  {
   "cell_type": "markdown",
   "metadata": {},
   "source": [
    "### Creación de la base de datos ➡ Formación de dataframes y cada columna de valores\n"
   ]
  },
  {
   "cell_type": "code",
   "execution_count": null,
   "metadata": {},
   "outputs": [],
   "source": []
  },
  {
   "cell_type": "markdown",
   "metadata": {},
   "source": [
    "### Guardado de archivos excel? limpios"
   ]
  },
  {
   "cell_type": "code",
   "execution_count": null,
   "metadata": {},
   "outputs": [],
   "source": []
  },
  {
   "cell_type": "markdown",
   "metadata": {},
   "source": [
    "### Conexión a MySQL"
   ]
  },
  {
   "cell_type": "code",
   "execution_count": null,
   "metadata": {},
   "outputs": [],
   "source": []
  },
  {
   "cell_type": "markdown",
   "metadata": {},
   "source": [
    "### Carga de base de datos"
   ]
  },
  {
   "cell_type": "code",
   "execution_count": null,
   "metadata": {},
   "outputs": [],
   "source": []
  },
  {
   "cell_type": "markdown",
   "metadata": {},
   "source": [
    "### Creación de uniones de los diagramas"
   ]
  },
  {
   "cell_type": "code",
   "execution_count": null,
   "metadata": {},
   "outputs": [],
   "source": []
  },
  {
   "cell_type": "markdown",
   "metadata": {},
   "source": [
    "### Entity Relationship Diagram - ERD"
   ]
  },
  {
   "cell_type": "markdown",
   "metadata": {},
   "source": [
    "ERD creado en MySQL"
   ]
  },
  {
   "cell_type": "markdown",
   "metadata": {},
   "source": []
  },
  {
   "cell_type": "markdown",
   "metadata": {},
   "source": [
    "### Queries"
   ]
  },
  {
   "cell_type": "markdown",
   "metadata": {},
   "source": [
    "##### dato 1\n",
    "```SQL\n",
    "-- MySQL Workbench Forward Engineering\n",
    "\n",
    "SET @OLD_UNIQUE_CHECKS=@@UNIQUE_CHECKS, UNIQUE_CHECKS=0;\n",
    "SET @OLD_FOREIGN_KEY_CHECKS=@@FOREIGN_KEY_CHECKS, FOREIGN_KEY_CHECKS=0;\n",
    "SET @OLD_SQL_MODE=@@SQL_MODE, SQL_MODE='ONLY_FULL_GROUP_BY,STRICT_TRANS_TABLES,NO_ZERO_IN_DATE,NO_ZERO_DATE,ERROR_FOR_DIVISION_BY_ZERO,NO_ENGINE_SUBSTITUTION';\n",
    "\n",
    "-- -----------------------------------------------------\n",
    "-- Schema mydb\n",
    "-- -----------------------------------------------------\n",
    "-- -----------------------------------------------------\n",
    "-- Schema farmacia\n",
    "-- -----------------------------------------------------\n",
    "-- -----------------------------------------------------\n",
    "-- Schema farmacia\n",
    "-- -----------------------------------------------------\n",
    "CREATE SCHEMA IF NOT EXISTS `farmacia` DEFAULT CHARACTER SET utf8mb4 COLLATE utf8mb4_0900_ai_ci ;\n",
    "USE `farmacia` ;\n",
    "\n",
    "-- -----------------------------------------------------\n",
    "-- Table `farmacia`.`empleados`\n",
    "-- -----------------------------------------------------\n",
    "CREATE TABLE IF NOT EXISTS `farmacia`.`empleados` (\n",
    "  `index` BIGINT NOT NULL,\n",
    "  `Vendedor` TEXT NULL DEFAULT NULL,\n",
    "  INDEX `ix_Empleados_index` (`index` ASC) VISIBLE,\n",
    "  PRIMARY KEY (`index`))\n",
    "ENGINE = InnoDB\n",
    "DEFAULT CHARACTER SET = utf8mb4\n",
    "COLLATE = utf8mb4_0900_ai_ci;\n",
    "\n",
    "\n",
    "-- -----------------------------------------------------\n",
    "-- Table `farmacia`.`medicamentos`\n",
    "-- -----------------------------------------------------\n",
    "CREATE TABLE IF NOT EXISTS `farmacia`.`medicamentos` (\n",
    "  `index` BIGINT NOT NULL,\n",
    "  `Codigo` BIGINT NULL DEFAULT NULL,\n",
    "  `Denominacion` TEXT NULL DEFAULT NULL,\n",
    "  `Pvp` DOUBLE NULL DEFAULT NULL,\n",
    "  INDEX `ix_Medicamentos_index` (`index` ASC) VISIBLE,\n",
    "  PRIMARY KEY (`index`))\n",
    "ENGINE = InnoDB\n",
    "DEFAULT CHARACTER SET = utf8mb4\n",
    "COLLATE = utf8mb4_0900_ai_ci;\n",
    "\n",
    "\n",
    "-- -----------------------------------------------------\n",
    "-- Table `farmacia`.`ventas`\n",
    "-- -----------------------------------------------------\n",
    "CREATE TABLE IF NOT EXISTS `farmacia`.`ventas` (\n",
    "  `index` BIGINT NOT NULL,\n",
    "  `Fecha` TEXT NULL DEFAULT NULL,\n",
    "  `Hora` TEXT NULL DEFAULT NULL,\n",
    "  `Organismo` TEXT NULL DEFAULT NULL,\n",
    "  `Cantidad` BIGINT NULL DEFAULT NULL,\n",
    "  `Pvp_facturado` DOUBLE NULL DEFAULT NULL,\n",
    "  `Importe_bruto` DOUBLE NULL DEFAULT NULL,\n",
    "  `Descuento` DOUBLE NULL DEFAULT NULL,\n",
    "  `Importe_neto` DOUBLE NULL DEFAULT NULL,\n",
    "  `Puesto` BIGINT NULL DEFAULT NULL,\n",
    "  `Existencias` BIGINT NULL DEFAULT NULL,\n",
    "  `Ticket` DOUBLE NULL DEFAULT NULL,\n",
    "  `Familia` TEXT NULL DEFAULT NULL,\n",
    "  `Mínimo` DOUBLE NULL,\n",
    "  `medicamentos_index` BIGINT NOT NULL,\n",
    "  `empleados_index` BIGINT NOT NULL,\n",
    "  INDEX `ix_Ventas_index` (`index` ASC) VISIBLE,\n",
    "  PRIMARY KEY (`index`),\n",
    "  INDEX `fk_ventas_medicamentos_idx` (`medicamentos_index` ASC) VISIBLE,\n",
    "  INDEX `fk_ventas_empleados1_idx` (`empleados_index` ASC) VISIBLE,\n",
    "  CONSTRAINT `fk_ventas_medicamentos`\n",
    "    FOREIGN KEY (`medicamentos_index`)\n",
    "    REFERENCES `farmacia`.`medicamentos` (`index`)\n",
    "    ON DELETE NO ACTION\n",
    "    ON UPDATE NO ACTION,\n",
    "  CONSTRAINT `fk_ventas_empleados1`\n",
    "    FOREIGN KEY (`empleados_index`)\n",
    "    REFERENCES `farmacia`.`empleados` (`index`)\n",
    "    ON DELETE NO ACTION\n",
    "    ON UPDATE NO ACTION)\n",
    "ENGINE = InnoDB\n",
    "DEFAULT CHARACTER SET = utf8mb4\n",
    "COLLATE = utf8mb4_0900_ai_ci;\n",
    "\n",
    "\n",
    "SET SQL_MODE=@OLD_SQL_MODE;\n",
    "SET FOREIGN_KEY_CHECKS=@OLD_FOREIGN_KEY_CHECKS;\n",
    "SET UNIQUE_CHECKS=@OLD_UNIQUE_CHECKS;\n",
    "```"
   ]
  },
  {
   "cell_type": "markdown",
   "metadata": {},
   "source": [
    "##### dato 2\n",
    "```SQL\n",
    "\n",
    "```\n",
    "\n",
    "```\n",
    "\n",
    "```"
   ]
  },
  {
   "cell_type": "markdown",
   "metadata": {},
   "source": [
    "##### dato 3\n",
    "```SQL\n",
    "\n",
    "```\n",
    "\n",
    "```\n",
    "\n",
    "```"
   ]
  },
  {
   "cell_type": "markdown",
   "metadata": {},
   "source": [
    "##### dato 4\n",
    "```SQL\n",
    "\n",
    "```\n",
    "\n",
    "```\n",
    "\n",
    "```"
   ]
  },
  {
   "cell_type": "markdown",
   "metadata": {},
   "source": [
    "##### dato 5\n",
    "```SQL\n",
    "\n",
    "```\n",
    "\n",
    "```\n",
    "\n",
    "```"
   ]
  },
  {
   "cell_type": "markdown",
   "metadata": {},
   "source": [
    "# Resumen"
   ]
  },
  {
   "cell_type": "markdown",
   "metadata": {},
   "source": []
  }
 ],
 "metadata": {
  "kernelspec": {
   "display_name": "Python 3",
   "language": "python",
   "name": "python3"
  },
  "language_info": {
   "codemirror_mode": {
    "name": "ipython",
    "version": 3
   },
   "file_extension": ".py",
   "mimetype": "text/x-python",
   "name": "python",
   "nbconvert_exporter": "python",
   "pygments_lexer": "ipython3",
   "version": "3.11.6"
  }
 },
 "nbformat": 4,
 "nbformat_minor": 2
}
