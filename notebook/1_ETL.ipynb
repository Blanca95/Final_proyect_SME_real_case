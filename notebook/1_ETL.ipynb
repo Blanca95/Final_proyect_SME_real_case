{
 "cells": [
  {
   "cell_type": "markdown",
   "metadata": {},
   "source": [
    "# 1. ETL ➡ Extraer, Transformar y Cargar"
   ]
  },
  {
   "cell_type": "markdown",
   "metadata": {},
   "source": [
    "Obtengo los datos a través del cliente interesado en que se le analicen los datos de su negocio. En este caso, es una farmacia comunitaria de Canarias, en Tenerife.\n",
    " \n",
    "El cliente ha obtenido los datos a partir del software de su negocio, llamado [Unycop](https://www.unycop.es/). Los datos se encuentran en formato excel."
   ]
  },
  {
   "cell_type": "code",
   "execution_count": 113,
   "metadata": {},
   "outputs": [],
   "source": [
    "import pandas as pd\n",
    "pd.set_option('display.max_columns', None)\n",
    "\n",
    "import numpy as np\n",
    "\n",
    "import warnings\n",
    "warnings.filterwarnings('ignore')"
   ]
  },
  {
   "cell_type": "markdown",
   "metadata": {},
   "source": [
    "---"
   ]
  },
  {
   "cell_type": "markdown",
   "metadata": {},
   "source": [
    "### Limpieza del primer archivo excel articulos"
   ]
  },
  {
   "cell_type": "code",
   "execution_count": 114,
   "metadata": {},
   "outputs": [],
   "source": [
    "df = pd.read_excel('../data/data_raw/articulos.xlsx')\n",
    "df = df.iloc[:, 1:]\n",
    "df.columns = df.iloc[0]\n",
    "df = df.iloc[1:, :]\n",
    "df = df.reset_index(drop=True)\n"
   ]
  },
  {
   "cell_type": "code",
   "execution_count": 115,
   "metadata": {},
   "outputs": [
    {
     "data": {
      "text/html": [
       "<div>\n",
       "<style scoped>\n",
       "    .dataframe tbody tr th:only-of-type {\n",
       "        vertical-align: middle;\n",
       "    }\n",
       "\n",
       "    .dataframe tbody tr th {\n",
       "        vertical-align: top;\n",
       "    }\n",
       "\n",
       "    .dataframe thead th {\n",
       "        text-align: right;\n",
       "    }\n",
       "</style>\n",
       "<table border=\"1\" class=\"dataframe\">\n",
       "  <thead>\n",
       "    <tr style=\"text-align: right;\">\n",
       "      <th></th>\n",
       "      <th>Código</th>\n",
       "      <th>Nombre</th>\n",
       "      <th>Familia</th>\n",
       "      <th>Mínimo</th>\n",
       "      <th>Existencias</th>\n",
       "      <th>P.V.P.</th>\n",
       "      <th>NaN</th>\n",
       "      <th>Ventas</th>\n",
       "      <th>Porcent.</th>\n",
       "    </tr>\n",
       "  </thead>\n",
       "  <tbody>\n",
       "    <tr>\n",
       "      <th>0</th>\n",
       "      <td>702686</td>\n",
       "      <td>JARDIANCE  10  MG  30  COMP</td>\n",
       "      <td>Financiables</td>\n",
       "      <td>4</td>\n",
       "      <td>5</td>\n",
       "      <td>49,53</td>\n",
       "      <td>NaN</td>\n",
       "      <td>18.188,36</td>\n",
       "      <td>0,80%</td>\n",
       "    </tr>\n",
       "    <tr>\n",
       "      <th>1</th>\n",
       "      <td>706414</td>\n",
       "      <td>TOUJEO  300  UI  SOL  INYECT  3  PLUMAS  1.5  M</td>\n",
       "      <td>Financiables</td>\n",
       "      <td>5</td>\n",
       "      <td>6</td>\n",
       "      <td>48,68</td>\n",
       "      <td>NaN</td>\n",
       "      <td>18.011,60</td>\n",
       "      <td>0,80%</td>\n",
       "    </tr>\n",
       "    <tr>\n",
       "      <th>2</th>\n",
       "      <td>700588</td>\n",
       "      <td>FORXIGA  10  MG  28  COMP</td>\n",
       "      <td>Financiables</td>\n",
       "      <td>3</td>\n",
       "      <td>3</td>\n",
       "      <td>44,25</td>\n",
       "      <td>NaN</td>\n",
       "      <td>16.149,68</td>\n",
       "      <td>0,71%</td>\n",
       "    </tr>\n",
       "    <tr>\n",
       "      <th>3</th>\n",
       "      <td>704632</td>\n",
       "      <td>TRULICITY  1.5  MG  SOL  INY  4  PLUMAS  PREC</td>\n",
       "      <td>Financiables</td>\n",
       "      <td>2</td>\n",
       "      <td>2</td>\n",
       "      <td>123,22</td>\n",
       "      <td>NaN</td>\n",
       "      <td>15.895,38</td>\n",
       "      <td>0,70%</td>\n",
       "    </tr>\n",
       "    <tr>\n",
       "      <th>4</th>\n",
       "      <td>935353</td>\n",
       "      <td>NEXIUM  MUPS  40  MG  28  COMP</td>\n",
       "      <td>Financiables</td>\n",
       "      <td>5</td>\n",
       "      <td>4</td>\n",
       "      <td>24,14</td>\n",
       "      <td>NaN</td>\n",
       "      <td>14.966,80</td>\n",
       "      <td>0,66%</td>\n",
       "    </tr>\n",
       "  </tbody>\n",
       "</table>\n",
       "</div>"
      ],
      "text/plain": [
       "0  Código                                           Nombre       Familia  \\\n",
       "0  702686                      JARDIANCE  10  MG  30  COMP  Financiables   \n",
       "1  706414  TOUJEO  300  UI  SOL  INYECT  3  PLUMAS  1.5  M  Financiables   \n",
       "2  700588                        FORXIGA  10  MG  28  COMP  Financiables   \n",
       "3  704632    TRULICITY  1.5  MG  SOL  INY  4  PLUMAS  PREC  Financiables   \n",
       "4  935353                   NEXIUM  MUPS  40  MG  28  COMP  Financiables   \n",
       "\n",
       "0 Mínimo Existencias  P.V.P.  NaN     Ventas Porcent.  \n",
       "0      4           5   49,53  NaN  18.188,36    0,80%  \n",
       "1      5           6   48,68  NaN  18.011,60    0,80%  \n",
       "2      3           3   44,25  NaN  16.149,68    0,71%  \n",
       "3      2           2  123,22  NaN  15.895,38    0,70%  \n",
       "4      5           4   24,14  NaN  14.966,80    0,66%  "
      ]
     },
     "execution_count": 115,
     "metadata": {},
     "output_type": "execute_result"
    }
   ],
   "source": [
    "df.head()"
   ]
  },
  {
   "cell_type": "code",
   "execution_count": 116,
   "metadata": {},
   "outputs": [],
   "source": [
    "df = df.drop_duplicates()"
   ]
  },
  {
   "cell_type": "code",
   "execution_count": 117,
   "metadata": {},
   "outputs": [],
   "source": [
    "df = df.rename(columns={df.columns[6]: 'columna_vacia'})\n",
    "columna_vacia = 'columna_vacia'\n",
    "df = df.drop(columns=[columna_vacia], errors='ignore')\n"
   ]
  },
  {
   "cell_type": "code",
   "execution_count": 118,
   "metadata": {},
   "outputs": [
    {
     "data": {
      "text/html": [
       "<div>\n",
       "<style scoped>\n",
       "    .dataframe tbody tr th:only-of-type {\n",
       "        vertical-align: middle;\n",
       "    }\n",
       "\n",
       "    .dataframe tbody tr th {\n",
       "        vertical-align: top;\n",
       "    }\n",
       "\n",
       "    .dataframe thead th {\n",
       "        text-align: right;\n",
       "    }\n",
       "</style>\n",
       "<table border=\"1\" class=\"dataframe\">\n",
       "  <thead>\n",
       "    <tr style=\"text-align: right;\">\n",
       "      <th></th>\n",
       "      <th>Código</th>\n",
       "      <th>Nombre</th>\n",
       "      <th>Familia</th>\n",
       "      <th>Mínimo</th>\n",
       "      <th>Existencias</th>\n",
       "      <th>P.V.P.</th>\n",
       "      <th>Ventas</th>\n",
       "      <th>Porcent.</th>\n",
       "    </tr>\n",
       "  </thead>\n",
       "  <tbody>\n",
       "    <tr>\n",
       "      <th>0</th>\n",
       "      <td>702686</td>\n",
       "      <td>JARDIANCE  10  MG  30  COMP</td>\n",
       "      <td>Financiables</td>\n",
       "      <td>4</td>\n",
       "      <td>5</td>\n",
       "      <td>49,53</td>\n",
       "      <td>18.188,36</td>\n",
       "      <td>0,80%</td>\n",
       "    </tr>\n",
       "    <tr>\n",
       "      <th>1</th>\n",
       "      <td>706414</td>\n",
       "      <td>TOUJEO  300  UI  SOL  INYECT  3  PLUMAS  1.5  M</td>\n",
       "      <td>Financiables</td>\n",
       "      <td>5</td>\n",
       "      <td>6</td>\n",
       "      <td>48,68</td>\n",
       "      <td>18.011,60</td>\n",
       "      <td>0,80%</td>\n",
       "    </tr>\n",
       "    <tr>\n",
       "      <th>2</th>\n",
       "      <td>700588</td>\n",
       "      <td>FORXIGA  10  MG  28  COMP</td>\n",
       "      <td>Financiables</td>\n",
       "      <td>3</td>\n",
       "      <td>3</td>\n",
       "      <td>44,25</td>\n",
       "      <td>16.149,68</td>\n",
       "      <td>0,71%</td>\n",
       "    </tr>\n",
       "    <tr>\n",
       "      <th>3</th>\n",
       "      <td>704632</td>\n",
       "      <td>TRULICITY  1.5  MG  SOL  INY  4  PLUMAS  PREC</td>\n",
       "      <td>Financiables</td>\n",
       "      <td>2</td>\n",
       "      <td>2</td>\n",
       "      <td>123,22</td>\n",
       "      <td>15.895,38</td>\n",
       "      <td>0,70%</td>\n",
       "    </tr>\n",
       "    <tr>\n",
       "      <th>4</th>\n",
       "      <td>935353</td>\n",
       "      <td>NEXIUM  MUPS  40  MG  28  COMP</td>\n",
       "      <td>Financiables</td>\n",
       "      <td>5</td>\n",
       "      <td>4</td>\n",
       "      <td>24,14</td>\n",
       "      <td>14.966,80</td>\n",
       "      <td>0,66%</td>\n",
       "    </tr>\n",
       "  </tbody>\n",
       "</table>\n",
       "</div>"
      ],
      "text/plain": [
       "0  Código                                           Nombre       Familia  \\\n",
       "0  702686                      JARDIANCE  10  MG  30  COMP  Financiables   \n",
       "1  706414  TOUJEO  300  UI  SOL  INYECT  3  PLUMAS  1.5  M  Financiables   \n",
       "2  700588                        FORXIGA  10  MG  28  COMP  Financiables   \n",
       "3  704632    TRULICITY  1.5  MG  SOL  INY  4  PLUMAS  PREC  Financiables   \n",
       "4  935353                   NEXIUM  MUPS  40  MG  28  COMP  Financiables   \n",
       "\n",
       "0 Mínimo Existencias  P.V.P.     Ventas Porcent.  \n",
       "0      4           5   49,53  18.188,36    0,80%  \n",
       "1      5           6   48,68  18.011,60    0,80%  \n",
       "2      3           3   44,25  16.149,68    0,71%  \n",
       "3      2           2  123,22  15.895,38    0,70%  \n",
       "4      5           4   24,14  14.966,80    0,66%  "
      ]
     },
     "execution_count": 118,
     "metadata": {},
     "output_type": "execute_result"
    }
   ],
   "source": [
    "df.head()"
   ]
  },
  {
   "cell_type": "code",
   "execution_count": 119,
   "metadata": {},
   "outputs": [],
   "source": [
    "df = df.dropna()"
   ]
  },
  {
   "cell_type": "code",
   "execution_count": 120,
   "metadata": {},
   "outputs": [
    {
     "data": {
      "text/html": [
       "<div>\n",
       "<style scoped>\n",
       "    .dataframe tbody tr th:only-of-type {\n",
       "        vertical-align: middle;\n",
       "    }\n",
       "\n",
       "    .dataframe tbody tr th {\n",
       "        vertical-align: top;\n",
       "    }\n",
       "\n",
       "    .dataframe thead th {\n",
       "        text-align: right;\n",
       "    }\n",
       "</style>\n",
       "<table border=\"1\" class=\"dataframe\">\n",
       "  <thead>\n",
       "    <tr style=\"text-align: right;\">\n",
       "      <th></th>\n",
       "      <th>Código</th>\n",
       "      <th>Nombre</th>\n",
       "      <th>Familia</th>\n",
       "      <th>Mínimo</th>\n",
       "      <th>Existencias</th>\n",
       "      <th>P.V.P.</th>\n",
       "      <th>Ventas</th>\n",
       "      <th>Porcent.</th>\n",
       "    </tr>\n",
       "  </thead>\n",
       "  <tbody>\n",
       "    <tr>\n",
       "      <th>0</th>\n",
       "      <td>702686</td>\n",
       "      <td>JARDIANCE  10  MG  30  COMP</td>\n",
       "      <td>Financiables</td>\n",
       "      <td>4</td>\n",
       "      <td>5</td>\n",
       "      <td>49,53</td>\n",
       "      <td>18.188,36</td>\n",
       "      <td>0,80%</td>\n",
       "    </tr>\n",
       "    <tr>\n",
       "      <th>1</th>\n",
       "      <td>706414</td>\n",
       "      <td>TOUJEO  300  UI  SOL  INYECT  3  PLUMAS  1.5  M</td>\n",
       "      <td>Financiables</td>\n",
       "      <td>5</td>\n",
       "      <td>6</td>\n",
       "      <td>48,68</td>\n",
       "      <td>18.011,60</td>\n",
       "      <td>0,80%</td>\n",
       "    </tr>\n",
       "    <tr>\n",
       "      <th>2</th>\n",
       "      <td>700588</td>\n",
       "      <td>FORXIGA  10  MG  28  COMP</td>\n",
       "      <td>Financiables</td>\n",
       "      <td>3</td>\n",
       "      <td>3</td>\n",
       "      <td>44,25</td>\n",
       "      <td>16.149,68</td>\n",
       "      <td>0,71%</td>\n",
       "    </tr>\n",
       "    <tr>\n",
       "      <th>3</th>\n",
       "      <td>704632</td>\n",
       "      <td>TRULICITY  1.5  MG  SOL  INY  4  PLUMAS  PREC</td>\n",
       "      <td>Financiables</td>\n",
       "      <td>2</td>\n",
       "      <td>2</td>\n",
       "      <td>123,22</td>\n",
       "      <td>15.895,38</td>\n",
       "      <td>0,70%</td>\n",
       "    </tr>\n",
       "    <tr>\n",
       "      <th>4</th>\n",
       "      <td>935353</td>\n",
       "      <td>NEXIUM  MUPS  40  MG  28  COMP</td>\n",
       "      <td>Financiables</td>\n",
       "      <td>5</td>\n",
       "      <td>4</td>\n",
       "      <td>24,14</td>\n",
       "      <td>14.966,80</td>\n",
       "      <td>0,66%</td>\n",
       "    </tr>\n",
       "  </tbody>\n",
       "</table>\n",
       "</div>"
      ],
      "text/plain": [
       "0  Código                                           Nombre       Familia  \\\n",
       "0  702686                      JARDIANCE  10  MG  30  COMP  Financiables   \n",
       "1  706414  TOUJEO  300  UI  SOL  INYECT  3  PLUMAS  1.5  M  Financiables   \n",
       "2  700588                        FORXIGA  10  MG  28  COMP  Financiables   \n",
       "3  704632    TRULICITY  1.5  MG  SOL  INY  4  PLUMAS  PREC  Financiables   \n",
       "4  935353                   NEXIUM  MUPS  40  MG  28  COMP  Financiables   \n",
       "\n",
       "0 Mínimo Existencias  P.V.P.     Ventas Porcent.  \n",
       "0      4           5   49,53  18.188,36    0,80%  \n",
       "1      5           6   48,68  18.011,60    0,80%  \n",
       "2      3           3   44,25  16.149,68    0,71%  \n",
       "3      2           2  123,22  15.895,38    0,70%  \n",
       "4      5           4   24,14  14.966,80    0,66%  "
      ]
     },
     "execution_count": 120,
     "metadata": {},
     "output_type": "execute_result"
    }
   ],
   "source": [
    "df.head()"
   ]
  },
  {
   "cell_type": "code",
   "execution_count": 121,
   "metadata": {},
   "outputs": [],
   "source": [
    "columnas_a = ['Código', 'Nombre', 'Familia', 'Mínimo', 'Existencias', 'P.V.P.', 'Ventas', 'Porcent.']\n",
    "eliminar = ['Código', 'Nombre', 'Familia', 'Mínimo', 'Existencias', 'P.V.P.', 'Ventas', 'Porcent.']\n",
    "\n",
    "# Itera sobre las columnas y elimina las filas que contienen los valores especificados\n",
    "for columna, valor in zip(columnas_a, eliminar):\n",
    "    df = df[~(df[columna] == valor)]"
   ]
  },
  {
   "cell_type": "code",
   "execution_count": 122,
   "metadata": {},
   "outputs": [],
   "source": [
    "df.to_excel('../data/data_clean/archivos.xlsx', index=False)"
   ]
  },
  {
   "cell_type": "markdown",
   "metadata": {},
   "source": [
    "- Ánalisis del primer archivo"
   ]
  },
  {
   "cell_type": "code",
   "execution_count": 127,
   "metadata": {},
   "outputs": [
    {
     "data": {
      "text/plain": [
       "(3352, 8)"
      ]
     },
     "execution_count": 127,
     "metadata": {},
     "output_type": "execute_result"
    }
   ],
   "source": [
    "df.shape"
   ]
  },
  {
   "cell_type": "code",
   "execution_count": 124,
   "metadata": {},
   "outputs": [
    {
     "name": "stdout",
     "output_type": "stream",
     "text": [
      "<class 'pandas.core.frame.DataFrame'>\n",
      "Index: 3352 entries, 0 to 3436\n",
      "Data columns (total 8 columns):\n",
      " #   Column       Non-Null Count  Dtype \n",
      "---  ------       --------------  ----- \n",
      " 0   Código       3352 non-null   object\n",
      " 1   Nombre       3352 non-null   object\n",
      " 2   Familia      3352 non-null   object\n",
      " 3   Mínimo       3352 non-null   object\n",
      " 4   Existencias  3352 non-null   object\n",
      " 5   P.V.P.       3352 non-null   object\n",
      " 6   Ventas       3352 non-null   object\n",
      " 7   Porcent.     3352 non-null   object\n",
      "dtypes: object(8)\n",
      "memory usage: 235.7+ KB\n"
     ]
    }
   ],
   "source": [
    "df.info()"
   ]
  },
  {
   "cell_type": "code",
   "execution_count": 126,
   "metadata": {},
   "outputs": [
    {
     "data": {
      "text/html": [
       "<div>\n",
       "<style scoped>\n",
       "    .dataframe tbody tr th:only-of-type {\n",
       "        vertical-align: middle;\n",
       "    }\n",
       "\n",
       "    .dataframe tbody tr th {\n",
       "        vertical-align: top;\n",
       "    }\n",
       "\n",
       "    .dataframe thead th {\n",
       "        text-align: right;\n",
       "    }\n",
       "</style>\n",
       "<table border=\"1\" class=\"dataframe\">\n",
       "  <thead>\n",
       "    <tr style=\"text-align: right;\">\n",
       "      <th></th>\n",
       "      <th>count</th>\n",
       "      <th>unique</th>\n",
       "      <th>top</th>\n",
       "      <th>freq</th>\n",
       "    </tr>\n",
       "    <tr>\n",
       "      <th>0</th>\n",
       "      <th></th>\n",
       "      <th></th>\n",
       "      <th></th>\n",
       "      <th></th>\n",
       "    </tr>\n",
       "  </thead>\n",
       "  <tbody>\n",
       "    <tr>\n",
       "      <th>Código</th>\n",
       "      <td>3352</td>\n",
       "      <td>3352</td>\n",
       "      <td>702686</td>\n",
       "      <td>1</td>\n",
       "    </tr>\n",
       "    <tr>\n",
       "      <th>Nombre</th>\n",
       "      <td>3352</td>\n",
       "      <td>3349</td>\n",
       "      <td>OMEPRAZOL  STADA  20  MG  56  CAPS  EFG</td>\n",
       "      <td>2</td>\n",
       "    </tr>\n",
       "    <tr>\n",
       "      <th>Familia</th>\n",
       "      <td>3352</td>\n",
       "      <td>9</td>\n",
       "      <td>Financiables</td>\n",
       "      <td>1652</td>\n",
       "    </tr>\n",
       "    <tr>\n",
       "      <th>Mínimo</th>\n",
       "      <td>3352</td>\n",
       "      <td>18</td>\n",
       "      <td>1</td>\n",
       "      <td>1371</td>\n",
       "    </tr>\n",
       "    <tr>\n",
       "      <th>Existencias</th>\n",
       "      <td>3352</td>\n",
       "      <td>89</td>\n",
       "      <td>1</td>\n",
       "      <td>1056</td>\n",
       "    </tr>\n",
       "    <tr>\n",
       "      <th>P.V.P.</th>\n",
       "      <td>3352</td>\n",
       "      <td>1551</td>\n",
       "      <td>2,40</td>\n",
       "      <td>71</td>\n",
       "    </tr>\n",
       "    <tr>\n",
       "      <th>Ventas</th>\n",
       "      <td>3352</td>\n",
       "      <td>3052</td>\n",
       "      <td>156,00</td>\n",
       "      <td>6</td>\n",
       "    </tr>\n",
       "    <tr>\n",
       "      <th>Porcent.</th>\n",
       "      <td>3352</td>\n",
       "      <td>48</td>\n",
       "      <td>0,01%</td>\n",
       "      <td>1580</td>\n",
       "    </tr>\n",
       "  </tbody>\n",
       "</table>\n",
       "</div>"
      ],
      "text/plain": [
       "            count unique                                      top  freq\n",
       "0                                                                      \n",
       "Código       3352   3352                                   702686     1\n",
       "Nombre       3352   3349  OMEPRAZOL  STADA  20  MG  56  CAPS  EFG     2\n",
       "Familia      3352      9                             Financiables  1652\n",
       "Mínimo       3352     18                                        1  1371\n",
       "Existencias  3352     89                                        1  1056\n",
       "P.V.P.       3352   1551                                     2,40    71\n",
       "Ventas       3352   3052                                   156,00     6\n",
       "Porcent.     3352     48                                    0,01%  1580"
      ]
     },
     "execution_count": 126,
     "metadata": {},
     "output_type": "execute_result"
    }
   ],
   "source": [
    "df.describe().T"
   ]
  },
  {
   "cell_type": "code",
   "execution_count": null,
   "metadata": {},
   "outputs": [],
   "source": []
  },
  {
   "cell_type": "code",
   "execution_count": null,
   "metadata": {},
   "outputs": [],
   "source": []
  },
  {
   "cell_type": "code",
   "execution_count": null,
   "metadata": {},
   "outputs": [],
   "source": []
  },
  {
   "cell_type": "markdown",
   "metadata": {},
   "source": [
    "## Resumen"
   ]
  }
 ],
 "metadata": {
  "kernelspec": {
   "display_name": "Python 3",
   "language": "python",
   "name": "python3"
  },
  "language_info": {
   "codemirror_mode": {
    "name": "ipython",
    "version": 3
   },
   "file_extension": ".py",
   "mimetype": "text/x-python",
   "name": "python",
   "nbconvert_exporter": "python",
   "pygments_lexer": "ipython3",
   "version": "3.11.6"
  }
 },
 "nbformat": 4,
 "nbformat_minor": 2
}
